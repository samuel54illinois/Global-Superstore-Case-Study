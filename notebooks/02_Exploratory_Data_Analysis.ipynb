{
 "cells": [
  {
   "cell_type": "markdown",
   "metadata": {},
   "source": [
    "# Global Superstore Case Study\n",
    "## Notebook 02: Exploratory Data Analysis\n",
    "\n",
    "### Objective:\n",
    "Perform exploratory data analysis (EDA) to uncover trends, distributions, and potential insights in the Global Superstore dataset.\n"
   ]
  },
  {
   "cell_type": "code",
   "execution_count": 5,
   "metadata": {},
   "outputs": [
    {
     "name": "stdout",
     "output_type": "stream",
     "text": [
      "Dataset Information:\n",
      "<class 'pandas.core.frame.DataFrame'>\n",
      "RangeIndex: 51290 entries, 0 to 51289\n",
      "Data columns (total 25 columns):\n",
      " #   Column          Non-Null Count  Dtype  \n",
      "---  ------          --------------  -----  \n",
      " 0   category        51290 non-null  object \n",
      " 1   city            51290 non-null  object \n",
      " 2   country         51290 non-null  object \n",
      " 3   customer_id     51290 non-null  object \n",
      " 4   customer_name   51290 non-null  object \n",
      " 5   discount        51290 non-null  float64\n",
      " 6   market          51290 non-null  object \n",
      " 7   order_date      51290 non-null  object \n",
      " 8   order_id        51290 non-null  object \n",
      " 9   order_priority  51290 non-null  object \n",
      " 10  product_id      51290 non-null  object \n",
      " 11  product_name    51290 non-null  object \n",
      " 12  profit          51290 non-null  float64\n",
      " 13  quantity        51290 non-null  int64  \n",
      " 14  region          51290 non-null  object \n",
      " 15  sales           51290 non-null  int64  \n",
      " 16  segment         51290 non-null  object \n",
      " 17  ship_date       51290 non-null  object \n",
      " 18  ship_mode       51290 non-null  object \n",
      " 19  shipping_cost   51290 non-null  float64\n",
      " 20  state           51290 non-null  object \n",
      " 21  sub_category    51290 non-null  object \n",
      " 22  year            51290 non-null  int64  \n",
      " 23  market2         51290 non-null  object \n",
      " 24  weeknum         51290 non-null  int64  \n",
      "dtypes: float64(3), int64(4), object(18)\n",
      "memory usage: 9.8+ MB\n",
      "\n",
      "Preview of the Dataset:\n",
      "          category         city        country customer_id     customer_name  \\\n",
      "0  Office Supplies  Los Angeles  United States   LS-172304  Lycoris Saunders   \n",
      "1  Office Supplies  Los Angeles  United States   MV-174854     Mark Van Huff   \n",
      "2  Office Supplies  Los Angeles  United States   CS-121304      Chad Sievert   \n",
      "3  Office Supplies  Los Angeles  United States   CS-121304      Chad Sievert   \n",
      "4  Office Supplies  Los Angeles  United States   AP-109154    Arthur Prichep   \n",
      "\n",
      "   discount market  order_date        order_id order_priority  ... sales  \\\n",
      "0       0.0     US  2011-01-07  CA-2011-130813           High  ...    19   \n",
      "1       0.0     US  2011-01-21  CA-2011-148614         Medium  ...    19   \n",
      "2       0.0     US  2011-08-05  CA-2011-118962         Medium  ...    21   \n",
      "3       0.0     US  2011-08-05  CA-2011-118962         Medium  ...   111   \n",
      "4       0.0     US  2011-09-29  CA-2011-146969           High  ...     6   \n",
      "\n",
      "    segment   ship_date       ship_mode shipping_cost       state  \\\n",
      "0  Consumer  2011-01-09    Second Class          4.37  California   \n",
      "1  Consumer  2011-01-26  Standard Class          0.94  California   \n",
      "2  Consumer  2011-08-09  Standard Class          1.81  California   \n",
      "3  Consumer  2011-08-09  Standard Class          4.59  California   \n",
      "4  Consumer  2011-10-03  Standard Class          1.32  California   \n",
      "\n",
      "  sub_category  year        market2  weeknum  \n",
      "0        Paper  2011  North America        2  \n",
      "1        Paper  2011  North America        4  \n",
      "2        Paper  2011  North America       32  \n",
      "3        Paper  2011  North America       32  \n",
      "4        Paper  2011  North America       40  \n",
      "\n",
      "[5 rows x 25 columns]\n"
     ]
    }
   ],
   "source": [
    "# Testing Code\n",
    "\n",
    "# Import necessary libraries\n",
    "import pandas as pd\n",
    "import matplotlib.pyplot as plt\n",
    "import seaborn as sns\n",
    "\n",
    "# Load the cleaned dataset\n",
    "df = pd.read_csv(\"cleaned_superstore.csv\")\n",
    "\n",
    "# Display dataset information\n",
    "print(\"Dataset Information:\")\n",
    "df.info()\n",
    "\n",
    "# Preview the first few rows of the dataset\n",
    "print(\"\\nPreview of the Dataset:\")\n",
    "print(df.head())"
   ]
  },
  {
   "cell_type": "markdown",
   "metadata": {},
   "source": [
    "## Step 1: Data Overview"
   ]
  },
  {
   "cell_type": "markdown",
   "metadata": {},
   "source": [
    "### 1. Load the dataset"
   ]
  },
  {
   "cell_type": "code",
   "execution_count": 2,
   "metadata": {},
   "outputs": [],
   "source": [
    "# Import necessary libraries\n",
    "import pandas as pd\n",
    "\n",
    "# Load the cleaned dataset\n",
    "df = pd.read_csv(\"cleaned_superstore.csv\")"
   ]
  },
  {
   "cell_type": "markdown",
   "metadata": {},
   "source": [
    "### 2. Dataset Information: Display the dataset’s structure, column data types, and memory usage."
   ]
  },
  {
   "cell_type": "code",
   "execution_count": 3,
   "metadata": {},
   "outputs": [
    {
     "name": "stdout",
     "output_type": "stream",
     "text": [
      "Dataset Information:\n",
      "<class 'pandas.core.frame.DataFrame'>\n",
      "RangeIndex: 51290 entries, 0 to 51289\n",
      "Data columns (total 25 columns):\n",
      " #   Column          Non-Null Count  Dtype  \n",
      "---  ------          --------------  -----  \n",
      " 0   category        51290 non-null  object \n",
      " 1   city            51290 non-null  object \n",
      " 2   country         51290 non-null  object \n",
      " 3   customer_id     51290 non-null  object \n",
      " 4   customer_name   51290 non-null  object \n",
      " 5   discount        51290 non-null  float64\n",
      " 6   market          51290 non-null  object \n",
      " 7   order_date      51290 non-null  object \n",
      " 8   order_id        51290 non-null  object \n",
      " 9   order_priority  51290 non-null  object \n",
      " 10  product_id      51290 non-null  object \n",
      " 11  product_name    51290 non-null  object \n",
      " 12  profit          51290 non-null  float64\n",
      " 13  quantity        51290 non-null  int64  \n",
      " 14  region          51290 non-null  object \n",
      " 15  sales           51290 non-null  int64  \n",
      " 16  segment         51290 non-null  object \n",
      " 17  ship_date       51290 non-null  object \n",
      " 18  ship_mode       51290 non-null  object \n",
      " 19  shipping_cost   51290 non-null  float64\n",
      " 20  state           51290 non-null  object \n",
      " 21  sub_category    51290 non-null  object \n",
      " 22  year            51290 non-null  int64  \n",
      " 23  market2         51290 non-null  object \n",
      " 24  weeknum         51290 non-null  int64  \n",
      "dtypes: float64(3), int64(4), object(18)\n",
      "memory usage: 9.8+ MB\n"
     ]
    }
   ],
   "source": [
    "# Display dataset info\n",
    "print(\"Dataset Information:\")\n",
    "df.info()\n"
   ]
  },
  {
   "cell_type": "markdown",
   "metadata": {},
   "source": [
    "### 3. Preview the Dataset: View the first few rows of the dataset."
   ]
  },
  {
   "cell_type": "code",
   "execution_count": 4,
   "metadata": {},
   "outputs": [
    {
     "name": "stdout",
     "output_type": "stream",
     "text": [
      "\n",
      "Preview of the Dataset:\n",
      "          category         city        country customer_id     customer_name  \\\n",
      "0  Office Supplies  Los Angeles  United States   LS-172304  Lycoris Saunders   \n",
      "1  Office Supplies  Los Angeles  United States   MV-174854     Mark Van Huff   \n",
      "2  Office Supplies  Los Angeles  United States   CS-121304      Chad Sievert   \n",
      "3  Office Supplies  Los Angeles  United States   CS-121304      Chad Sievert   \n",
      "4  Office Supplies  Los Angeles  United States   AP-109154    Arthur Prichep   \n",
      "\n",
      "   discount market  order_date        order_id order_priority  ... sales  \\\n",
      "0       0.0     US  2011-01-07  CA-2011-130813           High  ...    19   \n",
      "1       0.0     US  2011-01-21  CA-2011-148614         Medium  ...    19   \n",
      "2       0.0     US  2011-08-05  CA-2011-118962         Medium  ...    21   \n",
      "3       0.0     US  2011-08-05  CA-2011-118962         Medium  ...   111   \n",
      "4       0.0     US  2011-09-29  CA-2011-146969           High  ...     6   \n",
      "\n",
      "    segment   ship_date       ship_mode shipping_cost       state  \\\n",
      "0  Consumer  2011-01-09    Second Class          4.37  California   \n",
      "1  Consumer  2011-01-26  Standard Class          0.94  California   \n",
      "2  Consumer  2011-08-09  Standard Class          1.81  California   \n",
      "3  Consumer  2011-08-09  Standard Class          4.59  California   \n",
      "4  Consumer  2011-10-03  Standard Class          1.32  California   \n",
      "\n",
      "  sub_category  year        market2  weeknum  \n",
      "0        Paper  2011  North America        2  \n",
      "1        Paper  2011  North America        4  \n",
      "2        Paper  2011  North America       32  \n",
      "3        Paper  2011  North America       32  \n",
      "4        Paper  2011  North America       40  \n",
      "\n",
      "[5 rows x 25 columns]\n"
     ]
    }
   ],
   "source": [
    "# Preview the dataset\n",
    "print(\"\\nPreview of the Dataset:\")\n",
    "print(df.head())"
   ]
  },
  {
   "cell_type": "markdown",
   "metadata": {},
   "source": [
    "### 4. Summary Statistics:"
   ]
  },
  {
   "cell_type": "code",
   "execution_count": 7,
   "metadata": {},
   "outputs": [
    {
     "name": "stdout",
     "output_type": "stream",
     "text": [
      "\n",
      "Summary Statistics for Numeric Columns:\n",
      "           discount        profit      quantity         sales  shipping_cost  \\\n",
      "count  51290.000000  51290.000000  51290.000000  51290.000000   51290.000000   \n",
      "mean       0.142908     28.610982      3.476545    246.498440      26.375818   \n",
      "std        0.212280    174.340972      2.278766    487.567175      57.296810   \n",
      "min        0.000000  -6599.978000      1.000000      0.000000       0.002000   \n",
      "25%        0.000000      0.000000      2.000000     31.000000       2.610000   \n",
      "50%        0.000000      9.240000      3.000000     85.000000       7.790000   \n",
      "75%        0.200000     36.810000      5.000000    251.000000      24.450000   \n",
      "max        0.850000   8399.976000     14.000000  22638.000000     933.570000   \n",
      "\n",
      "               year       weeknum  \n",
      "count  51290.000000  51290.000000  \n",
      "mean    2012.777208     31.287112  \n",
      "std        1.098931     14.429795  \n",
      "min     2011.000000      1.000000  \n",
      "25%     2012.000000     20.000000  \n",
      "50%     2013.000000     33.000000  \n",
      "75%     2014.000000     44.000000  \n",
      "max     2014.000000     53.000000  \n"
     ]
    }
   ],
   "source": [
    "# Summary statistics for numeric columns\n",
    "print(\"\\nSummary Statistics for Numeric Columns:\")\n",
    "print(df.describe())"
   ]
  },
  {
   "cell_type": "code",
   "execution_count": null,
   "metadata": {},
   "outputs": [],
   "source": []
  }
 ],
 "metadata": {
  "kernelspec": {
   "display_name": "Python 3",
   "language": "python",
   "name": "python3"
  },
  "language_info": {
   "codemirror_mode": {
    "name": "ipython",
    "version": 3
   },
   "file_extension": ".py",
   "mimetype": "text/x-python",
   "name": "python",
   "nbconvert_exporter": "python",
   "pygments_lexer": "ipython3",
   "version": "3.12.2"
  }
 },
 "nbformat": 4,
 "nbformat_minor": 2
}
