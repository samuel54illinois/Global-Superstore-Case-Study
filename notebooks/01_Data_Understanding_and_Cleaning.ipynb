{
 "cells": [
  {
   "cell_type": "markdown",
   "metadata": {},
   "source": [
    "# Global Superstore Case Study\n",
    "## Notebook 01: Data Understanding and Cleaning\n",
    "\n",
    "**Objective:** Load the dataset, explore its structure, and perform initial cleaning to prepare it for analysis."
   ]
  },
  {
   "cell_type": "markdown",
   "metadata": {},
   "source": [
    "### Step 1: Loading the Dataset"
   ]
  },
  {
   "cell_type": "code",
   "execution_count": 11,
   "metadata": {},
   "outputs": [
    {
     "name": "stdout",
     "output_type": "stream",
     "text": [
      "\n",
      "Dataset:\n",
      "          Category         City        Country Customer.ID     Customer.Name  \\\n",
      "0  Office Supplies  Los Angeles  United States   LS-172304  Lycoris Saunders   \n",
      "1  Office Supplies  Los Angeles  United States   MV-174854     Mark Van Huff   \n",
      "2  Office Supplies  Los Angeles  United States   CS-121304      Chad Sievert   \n",
      "3  Office Supplies  Los Angeles  United States   CS-121304      Chad Sievert   \n",
      "4  Office Supplies  Los Angeles  United States   AP-109154    Arthur Prichep   \n",
      "\n",
      "   Discount Market  记录数               Order.Date        Order.ID  ... Sales  \\\n",
      "0       0.0     US    1  2011-01-07 00:00:00.000  CA-2011-130813  ...    19   \n",
      "1       0.0     US    1  2011-01-21 00:00:00.000  CA-2011-148614  ...    19   \n",
      "2       0.0     US    1  2011-08-05 00:00:00.000  CA-2011-118962  ...    21   \n",
      "3       0.0     US    1  2011-08-05 00:00:00.000  CA-2011-118962  ...   111   \n",
      "4       0.0     US    1  2011-09-29 00:00:00.000  CA-2011-146969  ...     6   \n",
      "\n",
      "    Segment                Ship.Date       Ship.Mode  Shipping.Cost  \\\n",
      "0  Consumer  2011-01-09 00:00:00.000    Second Class           4.37   \n",
      "1  Consumer  2011-01-26 00:00:00.000  Standard Class           0.94   \n",
      "2  Consumer  2011-08-09 00:00:00.000  Standard Class           1.81   \n",
      "3  Consumer  2011-08-09 00:00:00.000  Standard Class           4.59   \n",
      "4  Consumer  2011-10-03 00:00:00.000  Standard Class           1.32   \n",
      "\n",
      "        State  Sub.Category  Year        Market2 weeknum  \n",
      "0  California         Paper  2011  North America       2  \n",
      "1  California         Paper  2011  North America       4  \n",
      "2  California         Paper  2011  North America      32  \n",
      "3  California         Paper  2011  North America      32  \n",
      "4  California         Paper  2011  North America      40  \n",
      "\n",
      "[5 rows x 27 columns]\n"
     ]
    }
   ],
   "source": [
    "# Import necessary libraries\n",
    "import pandas as pd\n",
    "\n",
    "# Load the dataset\n",
    "df = pd.read_csv(\"superstore.csv\")\n",
    "\n",
    "# Preview the few rows of the dataset\n",
    "print(\"\\nDataset:\")\n",
    "print(df.head())"
   ]
  },
  {
   "cell_type": "markdown",
   "metadata": {},
   "source": [
    "### Step 2: Exploring the Dataset"
   ]
  },
  {
   "cell_type": "markdown",
   "metadata": {},
   "source": [
    "2.1 Dataset Summary:"
   ]
  },
  {
   "cell_type": "code",
   "execution_count": 17,
   "metadata": {},
   "outputs": [
    {
     "name": "stdout",
     "output_type": "stream",
     "text": [
      "Dataset Information:\n",
      "<class 'pandas.core.frame.DataFrame'>\n",
      "RangeIndex: 51290 entries, 0 to 51289\n",
      "Data columns (total 27 columns):\n",
      " #   Column          Non-Null Count  Dtype  \n",
      "---  ------          --------------  -----  \n",
      " 0   Category        51290 non-null  object \n",
      " 1   City            51290 non-null  object \n",
      " 2   Country         51290 non-null  object \n",
      " 3   Customer.ID     51290 non-null  object \n",
      " 4   Customer.Name   51290 non-null  object \n",
      " 5   Discount        51290 non-null  float64\n",
      " 6   Market          51290 non-null  object \n",
      " 7   记录数             51290 non-null  int64  \n",
      " 8   Order.Date      51290 non-null  object \n",
      " 9   Order.ID        51290 non-null  object \n",
      " 10  Order.Priority  51290 non-null  object \n",
      " 11  Product.ID      51290 non-null  object \n",
      " 12  Product.Name    51290 non-null  object \n",
      " 13  Profit          51290 non-null  float64\n",
      " 14  Quantity        51290 non-null  int64  \n",
      " 15  Region          51290 non-null  object \n",
      " 16  Row.ID          51290 non-null  int64  \n",
      " 17  Sales           51290 non-null  int64  \n",
      " 18  Segment         51290 non-null  object \n",
      " 19  Ship.Date       51290 non-null  object \n",
      " 20  Ship.Mode       51290 non-null  object \n",
      " 21  Shipping.Cost   51290 non-null  float64\n",
      " 22  State           51290 non-null  object \n",
      " 23  Sub.Category    51290 non-null  object \n",
      " 24  Year            51290 non-null  int64  \n",
      " 25  Market2         51290 non-null  object \n",
      " 26  weeknum         51290 non-null  int64  \n",
      "dtypes: float64(3), int64(6), object(18)\n",
      "memory usage: 10.6+ MB\n",
      "None\n"
     ]
    }
   ],
   "source": [
    "# Check Dataset Structures\n",
    "print(\"Dataset Information:\")\n",
    "print(df.info())"
   ]
  },
  {
   "cell_type": "markdown",
   "metadata": {},
   "source": [
    "Explaination: The data looks quite clean with no missing values; however there is a column 7, \"记录数\", that needs to be renamed later. We need to determine the meaning of the column name and then rename it."
   ]
  },
  {
   "cell_type": "code",
   "execution_count": 18,
   "metadata": {},
   "outputs": [
    {
     "name": "stdout",
     "output_type": "stream",
     "text": [
      "\n",
      "Summary Statistics:\n",
      "           Discount      记录数        Profit      Quantity       Row.ID  \\\n",
      "count  51290.000000  51290.0  51290.000000  51290.000000  51290.00000   \n",
      "mean       0.142908      1.0     28.610982      3.476545  25645.50000   \n",
      "std        0.212280      0.0    174.340972      2.278766  14806.29199   \n",
      "min        0.000000      1.0  -6599.978000      1.000000      1.00000   \n",
      "25%        0.000000      1.0      0.000000      2.000000  12823.25000   \n",
      "50%        0.000000      1.0      9.240000      3.000000  25645.50000   \n",
      "75%        0.200000      1.0     36.810000      5.000000  38467.75000   \n",
      "max        0.850000      1.0   8399.976000     14.000000  51290.00000   \n",
      "\n",
      "              Sales  Shipping.Cost          Year       weeknum  \n",
      "count  51290.000000   51290.000000  51290.000000  51290.000000  \n",
      "mean     246.498440      26.375818   2012.777208     31.287112  \n",
      "std      487.567175      57.296810      1.098931     14.429795  \n",
      "min        0.000000       0.002000   2011.000000      1.000000  \n",
      "25%       31.000000       2.610000   2012.000000     20.000000  \n",
      "50%       85.000000       7.790000   2013.000000     33.000000  \n",
      "75%      251.000000      24.450000   2014.000000     44.000000  \n",
      "max    22638.000000     933.570000   2014.000000     53.000000  \n"
     ]
    }
   ],
   "source": [
    "# Check Statistics for numeric columns\n",
    "print(\"\\nSummary Statistics:\")\n",
    "print(df.describe())"
   ]
  },
  {
   "cell_type": "markdown",
   "metadata": {},
   "source": [
    "Explaination: There might be some outliers in \"Profit\" or \"Sales\" which need to furthur inspected. However, overall the quality of this dataset looks good."
   ]
  },
  {
   "cell_type": "code",
   "execution_count": 19,
   "metadata": {},
   "outputs": [
    {
     "name": "stdout",
     "output_type": "stream",
     "text": [
      "\n",
      "Columns in the Dataset:\n",
      "['Category', 'City', 'Country', 'Customer.ID', 'Customer.Name', 'Discount', 'Market', '记录数', 'Order.Date', 'Order.ID', 'Order.Priority', 'Product.ID', 'Product.Name', 'Profit', 'Quantity', 'Region', 'Row.ID', 'Sales', 'Segment', 'Ship.Date', 'Ship.Mode', 'Shipping.Cost', 'State', 'Sub.Category', 'Year', 'Market2', 'weeknum']\n"
     ]
    }
   ],
   "source": [
    "# Display column names\n",
    "print(\"\\nColumns in the Dataset:\")\n",
    "print(df.columns.tolist())\n"
   ]
  },
  {
   "cell_type": "code",
   "execution_count": null,
   "metadata": {},
   "outputs": [],
   "source": []
  }
 ],
 "metadata": {
  "kernelspec": {
   "display_name": "Python 3",
   "language": "python",
   "name": "python3"
  },
  "language_info": {
   "codemirror_mode": {
    "name": "ipython",
    "version": 3
   },
   "file_extension": ".py",
   "mimetype": "text/x-python",
   "name": "python",
   "nbconvert_exporter": "python",
   "pygments_lexer": "ipython3",
   "version": "3.12.2"
  }
 },
 "nbformat": 4,
 "nbformat_minor": 2
}
