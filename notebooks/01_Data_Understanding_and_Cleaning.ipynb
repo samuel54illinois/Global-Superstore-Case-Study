{
 "cells": [
  {
   "cell_type": "markdown",
   "metadata": {},
   "source": [
    "# Global Superstore Case Study\n",
    "## Notebook 01: Data Understanding and Cleaning\n",
    "\n",
    "**Objective:** Load the dataset, explore its structure, and perform initial cleaning to prepare it for analysis."
   ]
  },
  {
   "cell_type": "markdown",
   "metadata": {},
   "source": [
    "## Part I: Data Cleaning"
   ]
  },
  {
   "cell_type": "markdown",
   "metadata": {},
   "source": [
    "### Step 1: Loading the Dataset"
   ]
  },
  {
   "cell_type": "code",
   "execution_count": 11,
   "metadata": {},
   "outputs": [
    {
     "name": "stdout",
     "output_type": "stream",
     "text": [
      "\n",
      "Dataset:\n",
      "          Category         City        Country Customer.ID     Customer.Name  \\\n",
      "0  Office Supplies  Los Angeles  United States   LS-172304  Lycoris Saunders   \n",
      "1  Office Supplies  Los Angeles  United States   MV-174854     Mark Van Huff   \n",
      "2  Office Supplies  Los Angeles  United States   CS-121304      Chad Sievert   \n",
      "3  Office Supplies  Los Angeles  United States   CS-121304      Chad Sievert   \n",
      "4  Office Supplies  Los Angeles  United States   AP-109154    Arthur Prichep   \n",
      "\n",
      "   Discount Market  记录数               Order.Date        Order.ID  ... Sales  \\\n",
      "0       0.0     US    1  2011-01-07 00:00:00.000  CA-2011-130813  ...    19   \n",
      "1       0.0     US    1  2011-01-21 00:00:00.000  CA-2011-148614  ...    19   \n",
      "2       0.0     US    1  2011-08-05 00:00:00.000  CA-2011-118962  ...    21   \n",
      "3       0.0     US    1  2011-08-05 00:00:00.000  CA-2011-118962  ...   111   \n",
      "4       0.0     US    1  2011-09-29 00:00:00.000  CA-2011-146969  ...     6   \n",
      "\n",
      "    Segment                Ship.Date       Ship.Mode  Shipping.Cost  \\\n",
      "0  Consumer  2011-01-09 00:00:00.000    Second Class           4.37   \n",
      "1  Consumer  2011-01-26 00:00:00.000  Standard Class           0.94   \n",
      "2  Consumer  2011-08-09 00:00:00.000  Standard Class           1.81   \n",
      "3  Consumer  2011-08-09 00:00:00.000  Standard Class           4.59   \n",
      "4  Consumer  2011-10-03 00:00:00.000  Standard Class           1.32   \n",
      "\n",
      "        State  Sub.Category  Year        Market2 weeknum  \n",
      "0  California         Paper  2011  North America       2  \n",
      "1  California         Paper  2011  North America       4  \n",
      "2  California         Paper  2011  North America      32  \n",
      "3  California         Paper  2011  North America      32  \n",
      "4  California         Paper  2011  North America      40  \n",
      "\n",
      "[5 rows x 27 columns]\n"
     ]
    }
   ],
   "source": [
    "# Import necessary libraries\n",
    "import pandas as pd\n",
    "\n",
    "# Load the dataset\n",
    "df = pd.read_csv(\"superstore.csv\")\n",
    "\n",
    "# Preview the few rows of the dataset\n",
    "print(\"\\nDataset:\")\n",
    "print(df.head())"
   ]
  },
  {
   "cell_type": "markdown",
   "metadata": {},
   "source": []
  }
 ],
 "metadata": {
  "kernelspec": {
   "display_name": "Python 3",
   "language": "python",
   "name": "python3"
  },
  "language_info": {
   "codemirror_mode": {
    "name": "ipython",
    "version": 3
   },
   "file_extension": ".py",
   "mimetype": "text/x-python",
   "name": "python",
   "nbconvert_exporter": "python",
   "pygments_lexer": "ipython3",
   "version": "3.12.2"
  }
 },
 "nbformat": 4,
 "nbformat_minor": 2
}
